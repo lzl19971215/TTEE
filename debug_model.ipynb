{
 "cells": [
  {
   "cell_type": "code",
   "execution_count": 2,
   "metadata": {},
   "outputs": [],
   "source": [
    "%load_ext autoreload\n",
    "%autoreload 2\n",
    "import os\n",
    "os.environ[\"CUDA_VISIBLE_DEVICES\"] = \"-1\"\n",
    "import logging\n",
    "import tensorflow as tf\n",
    "# gpus = tf.config.experimental.list_physical_devices(device_type='GPU')\n",
    "# tf.config.experimental.set_virtual_device_configuration(gpus[0],[tf.config.experimental.VirtualDeviceConfiguration(memory_limit=2048)])\n",
    "from train import ABSATrainer\n",
    "from datasets import EnglishDataset, TestTokenizer, ChineseDataset\n",
    "from transformers import AutoTokenizer, TFAutoModel\n",
    "from label_mappings import *\n",
    "from utils.eval_utils import quick_test"
   ]
  },
  {
   "cell_type": "code",
   "execution_count": 50,
   "metadata": {},
   "outputs": [
    {
     "name": "stderr",
     "output_type": "stream",
     "text": [
      "Some layers from the model checkpoint at bert-base-cased were not used when initializing TFBertModel: ['mlm___cls', 'nsp___cls']\n",
      "- This IS expected if you are initializing TFBertModel from the checkpoint of a model trained on another task or with another architecture (e.g. initializing a BertForSequenceClassification model from a BertForPreTraining model).\n",
      "- This IS NOT expected if you are initializing TFBertModel from the checkpoint of a model that you expect to be exactly identical (initializing a BertForSequenceClassification model from a BertForSequenceClassification model).\n",
      "All the layers of TFBertModel were initialized from the model checkpoint at bert-base-cased.\n",
      "If your task is similar to the task the model of the checkpoint was trained on, you can already use TFBertModel for predictions without further training.\n"
     ]
    }
   ],
   "source": [
    "# single tower english\n",
    "model_type = \"single_tower\"\n",
    "cased = True\n",
    "mask_sb = True\n",
    "\n",
    "\n",
    "init_dir = '../models/bert-base-cased'\n",
    "init_model = 'bert-base-cased'\n",
    "data_path = 'data/semeval2016/ABSA16_Restaurants_Train_SB1_v2.xml'\n",
    "checkpoint_path = \"./checkpoint/v0_256_1_30_cased_mask_b_avg_loss_aug_2/\"\n",
    "lang = \"en\"\n",
    "\n",
    "# checkpoint_path = \n",
    "# test_path = \"./data/semeval2016/EN_REST_SB1_TEST_LABELED.xml\"\n",
    "test_path = None\n",
    "tokenizer = AutoTokenizer.from_pretrained(init_model, cache_dir=init_dir)\n",
    "tokenizer.add_special_tokens({'pad_token': '[PAD]'})\n",
    "# test_dataset = ChineseDataset(test_path, tokenizer, ASPECT_SENTENCE, mask_sb, model_type)\n",
    "\n",
    "trainer = ABSATrainer(\n",
    "    None,\n",
    "    data_path,\n",
    "    test_path,\n",
    "    logger=logging.getLogger(),\n",
    "    checkpoint=checkpoint_path,\n",
    "    cased=cased,\n",
    "    model_type=model_type,\n",
    "    mask_sb=mask_sb,\n",
    "    lang=lang\n",
    ")\n",
    "test_tokenizer = TestTokenizer(trainer.tokenizer, SENTENCE_B['cased'], mask_sb, model_type)"
   ]
  },
  {
   "cell_type": "code",
   "execution_count": 5,
   "metadata": {},
   "outputs": [
    {
     "name": "stderr",
     "output_type": "stream",
     "text": [
      "Some layers from the model checkpoint at bert-base-cased were not used when initializing TFBertModel: ['nsp___cls', 'mlm___cls']\n",
      "- This IS expected if you are initializing TFBertModel from the checkpoint of a model trained on another task or with another architecture (e.g. initializing a BertForSequenceClassification model from a BertForPreTraining model).\n",
      "- This IS NOT expected if you are initializing TFBertModel from the checkpoint of a model that you expect to be exactly identical (initializing a BertForSequenceClassification model from a BertForSequenceClassification model).\n",
      "All the layers of TFBertModel were initialized from the model checkpoint at bert-base-cased.\n",
      "If your task is similar to the task the model of the checkpoint was trained on, you can already use TFBertModel for predictions without further training.\n"
     ]
    }
   ],
   "source": [
    "# end to end \n",
    "cased = True\n",
    "mask_sb = True\n",
    "model_type = \"end_to_end\"\n",
    "\n",
    "\n",
    "\n",
    "init_dir = '../models/bert-base-cased'\n",
    "init_model = 'bert-base-cased'\n",
    "data_path = 'data/semeval2016/ABSA16_Restaurants_Train_SB1_v2.xml'\n",
    "test_path = 'data/semeval2016/EN_REST_SB1_TEST_LABELED.xml'\n",
    "checkpoint_path = \"./checkpoint/v2_e2e_30_2_layer_pool_256_h_aug23/\"\n",
    "# checkpoint_path = \"./checkpoint/v2_e2e_30_2_layer_pool_256_h_aug23/\"\n",
    "# checkpoint_path = \"./checkpoint/v2_e2e_30_2_layer_pool_256_h_aug2_2e-5_cased_dropout/\"\n",
    "# checkpoint_path = \"./checkpoint/v2_e2e_50_2_layer_pool_256_h_2e-5_aug2_cased_update_dropout_0.1_drop_null_cache_aspsenti\"\n",
    "lang = \"en\"\n",
    "\n",
    "# init_dir = '../models/bert-base-chinese'\n",
    "# init_model = 'bert-base-chinese'\n",
    "# data_path = 'data/semeval2016/phone_chinese/labeled_phone.csv'\n",
    "# checkpoint_path = \"./checkpoint/cn_e2e_30_2_layer_pool_256_h_aug23\"\n",
    "# lang = \"cn\"\n",
    "# test_path = None\n",
    "\n",
    "\n",
    "\n",
    "tokenizer = AutoTokenizer.from_pretrained(init_model, cache_dir=init_dir)\n",
    "tokenizer.add_special_tokens({'pad_token': '[PAD]'})\n",
    "# test_dataset = ChineseDataset(test_path, tokenizer, ASPECT_SENTENCE, mask_sb, model_type)\n",
    "\n",
    "trainer = ABSATrainer(\n",
    "    None,\n",
    "    data_path,\n",
    "    test_path,\n",
    "    logger=logging.getLogger(),\n",
    "    checkpoint=checkpoint_path,\n",
    "    cased=cased,\n",
    "    model_type=model_type,\n",
    "    mask_sb=mask_sb,\n",
    "    lang=lang\n",
    ")\n",
    "# test_tokenizer = TestTokenizer(trainer.tokenizer, ASPECT_SENTENCE_CHINESE, mask_sb, model_type)\n",
    "test_tokenizer = TestTokenizer(trainer.tokenizer, ASPECT_SENTENCE, mask_sb, model_type)"
   ]
  },
  {
   "cell_type": "code",
   "execution_count": 3,
   "metadata": {},
   "outputs": [],
   "source": [
    "# cf = {\"init_bert_model\": \"bert-base-cased\", \"sentence_b\": {\"texts\": [\"general of ambience\", \"price of drinks\", \"quality of drinks\", \"style options of drinks\", \"prices of food\", \"quality of food\", \"style options of food\", \"general of location\", \"general of restaurant\", \"miscellaneous of restaurant\", \"prices of restaurant\", \"general of service\"], \"sentiments\": [\"negative\", \"neutral\", \"positive\"]}, \"num_sentiment_classes\": 3, \"subblock_hidden_size\": 256, \"subblock_head_num\": 1, \"cache_dir\": \"../models/bert-base-cased\", \"fuse_strategy\": \"concat\"}\n",
    "# trainer_2 = ABSATrainer(\n",
    "#     None,\n",
    "#     data_path,\n",
    "#     test_path,\n",
    "#     logger=logging.getLogger(),\n",
    "#     checkpoint=None,\n",
    "#     cased=cased,\n",
    "#     model_type=model_type,\n",
    "#     mask_sb=mask_sb,\n",
    "#     config=cf\n",
    "# )"
   ]
  },
  {
   "cell_type": "code",
   "execution_count": 13,
   "metadata": {},
   "outputs": [],
   "source": [
    "test_data = [\n",
    "    \"Comfortable sofa and chairs, good hamburgers. But the waiter is very rude.\"\n",
    "]\n",
    "# data = test_tokenizer.tokenize(test_data)\n",
    "# inputs = [data['input_ids'], data['token_type_ids'], data['attention_mask']]\n",
    "# aspect_inputs = [data['aspect_input_ids'], data['aspect_token_type_ids'], data['aspect_attention_mask']]\n",
    "# trainer.model(inputs, aspect_inputs, phase=\"test\")"
   ]
  },
  {
   "cell_type": "code",
   "execution_count": 14,
   "metadata": {},
   "outputs": [
    {
     "data": {
      "text/plain": [
       "[[{\"target\": \"chairs\", \"aspect\": \"AMBIENCE#GENERAL\", \"polarity\": \"positive\", \"prob\": 0.9267281889915466},\n",
       "  {\"target\": \"waiter\", \"aspect\": \"SERVICE#GENERAL\", \"polarity\": \"negative\", \"prob\": 0.9998960494995117},\n",
       "  {\"target\": \"sofa\", \"aspect\": \"AMBIENCE#GENERAL\", \"polarity\": \"positive\", \"prob\": 0.23541374504566193},\n",
       "  {\"target\": \"hamburgers\", \"aspect\": \"FOOD#QUALITY\", \"polarity\": \"positive\", \"prob\": 0.9992883205413818}]]"
      ]
     },
     "execution_count": 14,
     "metadata": {},
     "output_type": "execute_result"
    }
   ],
   "source": [
    "res, _ = quick_test(test_data, test_tokenizer, trainer, output_attentions=True)\n",
    "res"
   ]
  },
  {
   "cell_type": "code",
   "execution_count": 19,
   "metadata": {},
   "outputs": [
    {
     "name": "stderr",
     "output_type": "stream",
     "text": [
      "The parameters `output_attentions`, `output_hidden_states` and `use_cache` cannot be updated when calling a model.They have to be set to True/False in the config object (i.e.: `config=XConfig.from_pretrained('name', output_attentions=True)`).\n",
      "The parameter `return_dict` cannot be set in graph mode and will always be set to `True`.\n",
      "The parameters `output_attentions`, `output_hidden_states` and `use_cache` cannot be updated when calling a model.They have to be set to True/False in the config object (i.e.: `config=XConfig.from_pretrained('name', output_attentions=True)`).\n",
      "The parameter `return_dict` cannot be set in graph mode and will always be set to `True`.\n",
      "WARNING:absl:Function `call` contains input name(s) text_inputs, aspect_inputs with unsupported characters which will be renamed to text_inputs_2, aspect_inputs_2 in the SavedModel.\n"
     ]
    },
    {
     "name": "stdout",
     "output_type": "stream",
     "text": [
      "WARNING:tensorflow:Skipping full serialization of Keras layer <models.end_to_end_model.End2EndAspectSentimentModel object at 0x7f262461ec70>, because it is not built.\n"
     ]
    },
    {
     "name": "stderr",
     "output_type": "stream",
     "text": [
      "WARNING:tensorflow:Skipping full serialization of Keras layer <models.end_to_end_model.End2EndAspectSentimentModel object at 0x7f262461ec70>, because it is not built.\n",
      "The parameters `output_attentions`, `output_hidden_states` and `use_cache` cannot be updated when calling a model.They have to be set to True/False in the config object (i.e.: `config=XConfig.from_pretrained('name', output_attentions=True)`).\n",
      "The parameter `return_dict` cannot be set in graph mode and will always be set to `True`.\n",
      "The parameters `output_attentions`, `output_hidden_states` and `use_cache` cannot be updated when calling a model.They have to be set to True/False in the config object (i.e.: `config=XConfig.from_pretrained('name', output_attentions=True)`).\n",
      "The parameter `return_dict` cannot be set in graph mode and will always be set to `True`.\n",
      "The parameters `output_attentions`, `output_hidden_states` and `use_cache` cannot be updated when calling a model.They have to be set to True/False in the config object (i.e.: `config=XConfig.from_pretrained('name', output_attentions=True)`).\n",
      "The parameter `return_dict` cannot be set in graph mode and will always be set to `True`.\n",
      "The parameters `output_attentions`, `output_hidden_states` and `use_cache` cannot be updated when calling a model.They have to be set to True/False in the config object (i.e.: `config=XConfig.from_pretrained('name', output_attentions=True)`).\n",
      "The parameter `return_dict` cannot be set in graph mode and will always be set to `True`.\n",
      "The parameters `output_attentions`, `output_hidden_states` and `use_cache` cannot be updated when calling a model.They have to be set to True/False in the config object (i.e.: `config=XConfig.from_pretrained('name', output_attentions=True)`).\n",
      "The parameter `return_dict` cannot be set in graph mode and will always be set to `True`.\n",
      "The parameters `output_attentions`, `output_hidden_states` and `use_cache` cannot be updated when calling a model.They have to be set to True/False in the config object (i.e.: `config=XConfig.from_pretrained('name', output_attentions=True)`).\n",
      "The parameter `return_dict` cannot be set in graph mode and will always be set to `True`.\n",
      "The parameters `output_attentions`, `output_hidden_states` and `use_cache` cannot be updated when calling a model.They have to be set to True/False in the config object (i.e.: `config=XConfig.from_pretrained('name', output_attentions=True)`).\n",
      "The parameter `return_dict` cannot be set in graph mode and will always be set to `True`.\n",
      "The parameters `output_attentions`, `output_hidden_states` and `use_cache` cannot be updated when calling a model.They have to be set to True/False in the config object (i.e.: `config=XConfig.from_pretrained('name', output_attentions=True)`).\n",
      "The parameter `return_dict` cannot be set in graph mode and will always be set to `True`.\n",
      "The parameters `output_attentions`, `output_hidden_states` and `use_cache` cannot be updated when calling a model.They have to be set to True/False in the config object (i.e.: `config=XConfig.from_pretrained('name', output_attentions=True)`).\n",
      "The parameter `return_dict` cannot be set in graph mode and will always be set to `True`.\n",
      "The parameters `output_attentions`, `output_hidden_states` and `use_cache` cannot be updated when calling a model.They have to be set to True/False in the config object (i.e.: `config=XConfig.from_pretrained('name', output_attentions=True)`).\n",
      "The parameter `return_dict` cannot be set in graph mode and will always be set to `True`.\n",
      "The parameters `output_attentions`, `output_hidden_states` and `use_cache` cannot be updated when calling a model.They have to be set to True/False in the config object (i.e.: `config=XConfig.from_pretrained('name', output_attentions=True)`).\n",
      "The parameter `return_dict` cannot be set in graph mode and will always be set to `True`.\n",
      "WARNING:absl:Found untraced functions such as fuse_net_1_layer_call_fn, fuse_net_1_layer_call_and_return_conditional_losses, target_extraction_block_1_layer_call_fn, target_extraction_block_1_layer_call_and_return_conditional_losses, tf_bert_attention_1_layer_call_fn while saving (showing 5 of 1145). These functions will not be directly callable after loading.\n"
     ]
    },
    {
     "name": "stdout",
     "output_type": "stream",
     "text": [
      "INFO:tensorflow:Assets written to: ./saved_models/en_aug23_cache/assets\n"
     ]
    },
    {
     "name": "stderr",
     "output_type": "stream",
     "text": [
      "INFO:tensorflow:Assets written to: ./saved_models/en_aug23_cache/assets\n"
     ]
    }
   ],
   "source": [
    "signatures = {\n",
    "    \"text_inputs\": [tf.TensorSpec(shape=(None, None), dtype=tf.int32), tf.TensorSpec(shape=(None, None), dtype=tf.int32), tf.TensorSpec(shape=(None, None, None), dtype=tf.int32)],\n",
    "    \"aspect_inputs\": [tf.TensorSpec(shape=(None, None), dtype=tf.int32), tf.TensorSpec(shape=(None, None), dtype=tf.int32), tf.TensorSpec(shape=(None, None), dtype=tf.int32)]\n",
    "}\n",
    "test_func = trainer.model.call.get_concrete_function(text_inputs=signatures['text_inputs'], aspect_inputs=signatures['aspect_inputs'], label_inputs=None, phase=\"test\", output_attentions=False)\n",
    "tf.saved_model.save(trainer.model, \"./saved_models/en_aug23_cache\", signatures=test_func)"
   ]
  },
  {
   "cell_type": "code",
   "execution_count": 18,
   "metadata": {},
   "outputs": [],
   "source": [
    "tokenized_data = test_tokenizer.tokenize([\"Good drinks\"])\n",
    "text_inputs = [tokenized_data['input_ids'], tokenized_data['token_type_ids'], tokenized_data['attention_mask']]\n",
    "aspect_inputs = [tokenized_data['aspect_input_ids'], tokenized_data['aspect_token_type_ids'], tokenized_data['aspect_attention_mask']]"
   ]
  },
  {
   "cell_type": "code",
   "execution_count": 66,
   "metadata": {},
   "outputs": [],
   "source": [
    "res = infer_model.call(text_inputs=text_inputs, aspect_inputs=aspect_inputs, label_inputs=None, phase=\"test\", output_attentions=True)"
   ]
  },
  {
   "cell_type": "code",
   "execution_count": 31,
   "metadata": {},
   "outputs": [
    {
     "data": {
      "text/plain": [
       "{'origin_text': ['Comfortable sofa and chairs, good hamburgers. But the waiter is very rude.'],\n",
       " 'result': [[{'target': 'sofa',\n",
       "    'aspect': 'AMBIENCE#GENERAL',\n",
       "    'polarity': 'positive',\n",
       "    'prob': 0.23541486263275146},\n",
       "   {'target': 'hamburgers',\n",
       "    'aspect': 'FOOD#QUALITY',\n",
       "    'polarity': 'positive',\n",
       "    'prob': 0.9992883205413818},\n",
       "   {'target': 'waiter',\n",
       "    'aspect': 'SERVICE#GENERAL',\n",
       "    'polarity': 'negative',\n",
       "    'prob': 0.9998960494995117},\n",
       "   {'target': 'chairs',\n",
       "    'aspect': 'AMBIENCE#GENERAL',\n",
       "    'polarity': 'positive',\n",
       "    'prob': 0.9267282485961914}]],\n",
       " 'time_cost': 0.28431248664855957,\n",
       " 'status': 'success',\n",
       " 'error_code': 0}"
      ]
     },
     "execution_count": 31,
     "metadata": {},
     "output_type": "execute_result"
    }
   ],
   "source": [
    "import requests\n",
    "import json\n",
    "test_data = {\"text\": [\"Comfortable sofa and chairs, good hamburgers. But the waiter is very rude.\"],\n",
    "        \"language\": \"en\",\n",
    "        \"output_attentions\": False,\n",
    "}\n",
    "url = \"http://127.0.0.1:3030/absa_service\"\n",
    "# res = test_to|kenizer.tokenizer(test_data, padding=\"max_length\", max_length=64)\n",
    "res = requests.post(url, json=test_data)\n",
    "res.json()"
   ]
  },
  {
   "cell_type": "code",
   "execution_count": 36,
   "metadata": {},
   "outputs": [],
   "source": [
    "import matplotlib.pyplot as plt\n",
    "import seaborn as sns\n",
    "import pandas as pd\n",
    "\n",
    "test_data = [\n",
    "    \"Comfortable sofa and chairs, good hamburgers. But the waiter is very rude.\"\n",
    "#     \"The hamburger taste good but is too expensive\",\n",
    "#     \"The hamburger tastes good but it is too expensive!\",\n",
    "]\n",
    "query_inputs = tokenizer.tokenize('[CLS]', add_special_tokens=False)\n",
    "key_inputs = tokenizer.tokenize(test_data[0], add_special_tokens=True)\n",
    "res, out = quick_test(test_data, test_tokenizer, trainer, output_attentions=True)\n",
    "res"
   ]
  },
  {
   "cell_type": "code",
   "execution_count": 257,
   "metadata": {},
   "outputs": [],
   "source": [
    "at = res['sc_attention']\n",
    "at_list = []\n",
    "\n",
    "for i in range(at.size()):\n",
    "    at_list.append(at.read(i).numpy())"
   ]
  },
  {
   "cell_type": "code",
   "execution_count": 260,
   "metadata": {},
   "outputs": [
    {
     "data": {
      "image/png": "[encoded data removed]",
      "text/plain": [
       "<Figure size 720x216 with 2 Axes>"
      ]
     },
     "metadata": {
      "needs_background": "light"
     },
     "output_type": "display_data"
    }
   ],
   "source": [
    "# % matplotlib inline\n",
    "query_inputs = tokenizer.tokenize('[CLS]', add_special_tokens=False)\n",
    "key_inputs = tokenizer.tokenize(test_data[0], add_special_tokens=True)\n",
    "attention = at_list[1].squeeze(0).squeeze(0)[:, :len(key_inputs)]\n",
    "df = pd.DataFrame(attention)\n",
    "df.columns = key_inputs\n",
    "df.index = query_inputs\n",
    "plt.figure(figsize=(10, 3))\n",
    "sns.heatmap(df, linewidths = 0.1, vmax=0.5, vmin=0, cmap=\"bwr\")\n",
    "plt.title(\"Sentiment Classification Module\")\n",
    "plt.tight_layout()\n",
    "# plt.savefig('./plots/bwr_ham_sc_attention.jpg', dpi=300)\n",
    "plt.show()\n",
    "# print(attention)"
   ]
  },
  {
   "cell_type": "code",
   "execution_count": 41,
   "metadata": {
    "scrolled": true
   },
   "outputs": [
    {
     "data": {
      "text/plain": [
       "dict_keys(['origin_text', 'result', 'time_cost', 'status', 'attentions', 'error_code'])"
      ]
     },
     "execution_count": 41,
     "metadata": {},
     "output_type": "execute_result"
    }
   ],
   "source": [
    "import matplotlib.pyplot as plt\n",
    "import matplotlib\n",
    "import seaborn as sns\n",
    "import pandas as pd\n",
    "import numpy as np\n",
    "from label_mappings import CATEGORY_LABEL_MAPPING_CHINESE, SENTIMENT_LABEL_MAPPING_CHINESE, CATEGORY_LABEL_MAPPING, SENTIMENT_LABEL_MAPPING\n",
    "matplotlib.rcParams['axes.unicode_minus']=False\n",
    "matplotlib.rcParams['font.sans-serif'] = ['FangSong']\n",
    "\n",
    "# % matplotlib inline\n",
    "# test_data = [\n",
    "# #     \"Comfortable sofa and chairs, good hamburgers. But the waiter is very rude.\"\n",
    "# #     \"The hamburger taste good but is too expensive\",\n",
    "# #     \"The hamburger tastes good but it is too expensive!\",\n",
    "#     \"屏幕质量不错，很抗摔；电池续航很好，可以待机两天；相机不是很给，拍出来有点模糊\"\n",
    "# ]\n",
    "\n",
    "data = {\"text\": [\n",
    "        \"屏幕质量不错，很抗摔；电池续航很好，可以待机两天；相机不是很给，拍出来有点模糊\"\n",
    "                ],\n",
    "        \"language\": \"en\",\n",
    "        \"output_attentions\": True,\n",
    "}\n",
    "\n",
    "query_inputs = tokenizer.tokenize('[CLS]', add_special_tokens=False)\n",
    "key_inputs = tokenizer.tokenize(test_data[\"text\"][0], add_special_tokens=True)\n",
    "\n",
    "res = requests.post(url, json=data).json()\n",
    "# res, attention = quick_test(test_data, test_tokenizer, trainer, output_attentions=True)\n",
    "# res"
   ]
  },
  {
   "cell_type": "code",
   "execution_count": 42,
   "metadata": {},
   "outputs": [
    {
     "ename": "ValueError",
     "evalue": "Length mismatch: Expected axis has 36 elements, new values have 33 elements",
     "output_type": "error",
     "traceback": [
      "\u001b[0;31m---------------------------------------------------------------------------\u001b[0m",
      "\u001b[0;31mValueError\u001b[0m                                Traceback (most recent call last)",
      "\u001b[0;32m<ipython-input-42-7b80b8eae31e>\u001b[0m in \u001b[0;36m<module>\u001b[0;34m\u001b[0m\n\u001b[1;32m     12\u001b[0m \u001b[0msim_matrix\u001b[0m \u001b[0;34m=\u001b[0m \u001b[0mnp\u001b[0m\u001b[0;34m.\u001b[0m\u001b[0marray\u001b[0m\u001b[0;34m(\u001b[0m\u001b[0mres\u001b[0m\u001b[0;34m[\u001b[0m\u001b[0;34m'attentions'\u001b[0m\u001b[0;34m]\u001b[0m\u001b[0;34m)\u001b[0m\u001b[0;34m.\u001b[0m\u001b[0msqueeze\u001b[0m\u001b[0;34m(\u001b[0m\u001b[0;34m)\u001b[0m \u001b[0;31m#[np.array(asp_idxs)]\u001b[0m\u001b[0;34m\u001b[0m\u001b[0;34m\u001b[0m\u001b[0m\n\u001b[1;32m     13\u001b[0m \u001b[0mdf\u001b[0m \u001b[0;34m=\u001b[0m \u001b[0mpd\u001b[0m\u001b[0;34m.\u001b[0m\u001b[0mDataFrame\u001b[0m\u001b[0;34m(\u001b[0m\u001b[0msim_matrix\u001b[0m\u001b[0;34m)\u001b[0m\u001b[0;34m\u001b[0m\u001b[0;34m\u001b[0m\u001b[0m\n\u001b[0;32m---> 14\u001b[0;31m \u001b[0mdf\u001b[0m\u001b[0;34m.\u001b[0m\u001b[0mindex\u001b[0m \u001b[0;34m=\u001b[0m \u001b[0mquery_inputs\u001b[0m\u001b[0;34m\u001b[0m\u001b[0;34m\u001b[0m\u001b[0m\n\u001b[0m\u001b[1;32m     15\u001b[0m \u001b[0mdf\u001b[0m\u001b[0;34m.\u001b[0m\u001b[0mcolumns\u001b[0m \u001b[0;34m=\u001b[0m \u001b[0mkey_inputs\u001b[0m\u001b[0;34m\u001b[0m\u001b[0;34m\u001b[0m\u001b[0m\n\u001b[1;32m     16\u001b[0m \u001b[0mplt\u001b[0m\u001b[0;34m.\u001b[0m\u001b[0mfigure\u001b[0m\u001b[0;34m(\u001b[0m\u001b[0mfigsize\u001b[0m\u001b[0;34m=\u001b[0m\u001b[0;34m(\u001b[0m\u001b[0;36m20\u001b[0m\u001b[0;34m,\u001b[0m \u001b[0;36m10\u001b[0m\u001b[0;34m)\u001b[0m\u001b[0;34m)\u001b[0m\u001b[0;34m\u001b[0m\u001b[0;34m\u001b[0m\u001b[0m\n",
      "\u001b[0;32m/home1/liumiao/miniconda3/lib/python3.8/site-packages/pandas/core/generic.py\u001b[0m in \u001b[0;36m__setattr__\u001b[0;34m(self, name, value)\u001b[0m\n\u001b[1;32m   5476\u001b[0m         \u001b[0;32mtry\u001b[0m\u001b[0;34m:\u001b[0m\u001b[0;34m\u001b[0m\u001b[0;34m\u001b[0m\u001b[0m\n\u001b[1;32m   5477\u001b[0m             \u001b[0mobject\u001b[0m\u001b[0;34m.\u001b[0m\u001b[0m__getattribute__\u001b[0m\u001b[0;34m(\u001b[0m\u001b[0mself\u001b[0m\u001b[0;34m,\u001b[0m \u001b[0mname\u001b[0m\u001b[0;34m)\u001b[0m\u001b[0;34m\u001b[0m\u001b[0;34m\u001b[0m\u001b[0m\n\u001b[0;32m-> 5478\u001b[0;31m             \u001b[0;32mreturn\u001b[0m \u001b[0mobject\u001b[0m\u001b[0;34m.\u001b[0m\u001b[0m__setattr__\u001b[0m\u001b[0;34m(\u001b[0m\u001b[0mself\u001b[0m\u001b[0;34m,\u001b[0m \u001b[0mname\u001b[0m\u001b[0;34m,\u001b[0m \u001b[0mvalue\u001b[0m\u001b[0;34m)\u001b[0m\u001b[0;34m\u001b[0m\u001b[0;34m\u001b[0m\u001b[0m\n\u001b[0m\u001b[1;32m   5479\u001b[0m         \u001b[0;32mexcept\u001b[0m \u001b[0mAttributeError\u001b[0m\u001b[0;34m:\u001b[0m\u001b[0;34m\u001b[0m\u001b[0;34m\u001b[0m\u001b[0m\n\u001b[1;32m   5480\u001b[0m             \u001b[0;32mpass\u001b[0m\u001b[0;34m\u001b[0m\u001b[0;34m\u001b[0m\u001b[0m\n",
      "\u001b[0;32mpandas/_libs/properties.pyx\u001b[0m in \u001b[0;36mpandas._libs.properties.AxisProperty.__set__\u001b[0;34m()\u001b[0m\n",
      "\u001b[0;32m/home1/liumiao/miniconda3/lib/python3.8/site-packages/pandas/core/generic.py\u001b[0m in \u001b[0;36m_set_axis\u001b[0;34m(self, axis, labels)\u001b[0m\n\u001b[1;32m    668\u001b[0m     \u001b[0;32mdef\u001b[0m \u001b[0m_set_axis\u001b[0m\u001b[0;34m(\u001b[0m\u001b[0mself\u001b[0m\u001b[0;34m,\u001b[0m \u001b[0maxis\u001b[0m\u001b[0;34m:\u001b[0m \u001b[0mint\u001b[0m\u001b[0;34m,\u001b[0m \u001b[0mlabels\u001b[0m\u001b[0;34m:\u001b[0m \u001b[0mIndex\u001b[0m\u001b[0;34m)\u001b[0m \u001b[0;34m->\u001b[0m \u001b[0;32mNone\u001b[0m\u001b[0;34m:\u001b[0m\u001b[0;34m\u001b[0m\u001b[0;34m\u001b[0m\u001b[0m\n\u001b[1;32m    669\u001b[0m         \u001b[0mlabels\u001b[0m \u001b[0;34m=\u001b[0m \u001b[0mensure_index\u001b[0m\u001b[0;34m(\u001b[0m\u001b[0mlabels\u001b[0m\u001b[0;34m)\u001b[0m\u001b[0;34m\u001b[0m\u001b[0;34m\u001b[0m\u001b[0m\n\u001b[0;32m--> 670\u001b[0;31m         \u001b[0mself\u001b[0m\u001b[0;34m.\u001b[0m\u001b[0m_mgr\u001b[0m\u001b[0;34m.\u001b[0m\u001b[0mset_axis\u001b[0m\u001b[0;34m(\u001b[0m\u001b[0maxis\u001b[0m\u001b[0;34m,\u001b[0m \u001b[0mlabels\u001b[0m\u001b[0;34m)\u001b[0m\u001b[0;34m\u001b[0m\u001b[0;34m\u001b[0m\u001b[0m\n\u001b[0m\u001b[1;32m    671\u001b[0m         \u001b[0mself\u001b[0m\u001b[0;34m.\u001b[0m\u001b[0m_clear_item_cache\u001b[0m\u001b[0;34m(\u001b[0m\u001b[0;34m)\u001b[0m\u001b[0;34m\u001b[0m\u001b[0;34m\u001b[0m\u001b[0m\n\u001b[1;32m    672\u001b[0m \u001b[0;34m\u001b[0m\u001b[0m\n",
      "\u001b[0;32m/home1/liumiao/miniconda3/lib/python3.8/site-packages/pandas/core/internals/managers.py\u001b[0m in \u001b[0;36mset_axis\u001b[0;34m(self, axis, new_labels)\u001b[0m\n\u001b[1;32m    218\u001b[0m \u001b[0;34m\u001b[0m\u001b[0m\n\u001b[1;32m    219\u001b[0m         \u001b[0;32mif\u001b[0m \u001b[0mnew_len\u001b[0m \u001b[0;34m!=\u001b[0m \u001b[0mold_len\u001b[0m\u001b[0;34m:\u001b[0m\u001b[0;34m\u001b[0m\u001b[0;34m\u001b[0m\u001b[0m\n\u001b[0;32m--> 220\u001b[0;31m             raise ValueError(\n\u001b[0m\u001b[1;32m    221\u001b[0m                 \u001b[0;34mf\"Length mismatch: Expected axis has {old_len} elements, new \"\u001b[0m\u001b[0;34m\u001b[0m\u001b[0;34m\u001b[0m\u001b[0m\n\u001b[1;32m    222\u001b[0m                 \u001b[0;34mf\"values have {new_len} elements\"\u001b[0m\u001b[0;34m\u001b[0m\u001b[0;34m\u001b[0m\u001b[0m\n",
      "\u001b[0;31mValueError\u001b[0m: Length mismatch: Expected axis has 36 elements, new values have 33 elements"
     ]
    }
   ],
   "source": [
    "asp_idxs = []\n",
    "query_inputs = []\n",
    "# for triplet in res[0]:\n",
    "#     asp_idx = CATEGORY_LABEL_MAPPING[triplet.aspect]\n",
    "#     senti_idx = SENTIMENT_LABEL_MAPPING[triplet.sentiment]\n",
    "#     asp_idxs.append(asp_idx * 3 + senti_idx)\n",
    "#     query_inputs.append(triplet.aspect + \"_\" + triplet.sentiment)\n",
    "for asp in CATEGORY_LABEL_MAPPING_CHINESE:\n",
    "    for senti in SENTIMENT_LABEL_MAPPING_CHINESE:\n",
    "        query_inputs.append(asp + \"_\" + senti)\n",
    "\n",
    "sim_matrix = np.array(res['attentions']).squeeze() #[np.array(asp_idxs)]\n",
    "df = pd.DataFrame(sim_matrix)\n",
    "df.index = query_inputs\n",
    "df.columns = key_inputs\n",
    "plt.figure(figsize=(20, 10))\n",
    "sns.heatmap(df, linewidths = 0.1, vmax=1, vmin=-1, cmap=\"bwr\")\n",
    "plt.title(\"Cosine Simlarity in FuseBlock\")\n",
    "plt.tight_layout()\n",
    "# plt.savefig('./plots/fusebock_sim_matrix_cn_all_3t.jpg', dpi=300)\n",
    "plt.show()\n",
    "# print(attention)"
   ]
  },
  {
   "cell_type": "code",
   "execution_count": null,
   "metadata": {},
   "outputs": [],
   "source": []
  }
 ],
 "metadata": {
  "interpreter": {
   "hash": "31f2aee4e71d21fbe5cf8b01ff0e069b9275f58929596ceb00d14d90e3e16cd6"
  },
  "kernelspec": {
   "display_name": "Python 3",
   "language": "python",
   "name": "python3"
  },
  "language_info": {
   "codemirror_mode": {
    "name": "ipython",
    "version": 3
   },
   "file_extension": ".py",
   "mimetype": "text/x-python",
   "name": "python",
   "nbconvert_exporter": "python",
   "pygments_lexer": "ipython3",
   "version": "3.8.5"
  }
 },
 "nbformat": 4,
 "nbformat_minor": 2
}
