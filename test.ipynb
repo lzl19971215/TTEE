{
 "cells": [
  {
   "cell_type": "code",
   "execution_count": 13,
   "metadata": {},
   "outputs": [],
   "source": [
    "import os\n",
    "os.environ['CUDA_VISIBLE_DEVICES'] = '-1'\n",
    "import tensorflow as tf\n",
    "import numpy as np"
   ]
  },
  {
   "cell_type": "code",
   "execution_count": 1,
   "metadata": {},
   "outputs": [
    {
     "ename": "SyntaxError",
     "evalue": "invalid syntax (309661463.py, line 29)",
     "output_type": "error",
     "traceback": [
      "\u001b[0;36m  File \u001b[0;32m\"/tmp/ipykernel_760219/309661463.py\"\u001b[0;36m, line \u001b[0;32m29\u001b[0m\n\u001b[0;31m    sample_mask =\u001b[0m\n\u001b[0m                  ^\u001b[0m\n\u001b[0;31mSyntaxError\u001b[0m\u001b[0;31m:\u001b[0m invalid syntax\n"
     ]
    }
   ],
   "source": [
    "# a = tf.TensorArray(dtype=tf.float32, size=0, dynamic_size=True, infer_shape=False)\n",
    "# a.write(0, [1., 0.])\n",
    "# a.write(1, [[0., 1.], [1., 2.]])\n",
    "# b = a.concat()\n",
    "# tf.reduce_mean(b, 0)\n",
    "\n",
    "\n",
    "labels = np.zeros((16, 363))\n",
    "for i in range(16):\n",
    "    labels[i, np.random.randint(0, 363)] = 1\n",
    "np.nonzero(labels)\n",
    "\n",
    "def negative_sampling(labels, n_sample=32):\n",
    "    num_rows, _ = labels.shape\n",
    "    sampled_indices = []\n",
    "    \n",
    "    for i in range(num_rows):\n",
    "        positive_indices = np.where(labels[i] == 1)[0]\n",
    "        negative_indices = np.where(labels[i] == 0)[0]\n",
    "        assert len(positive_indices) < n_sample\n",
    "\n",
    "        chosen_indices = positive_indices\n",
    "        num_negatives_needed = n_sample - len(chosen_indices)\n",
    "        chosen_negative_indices = np.random.choice(negative_indices, size=num_negatives_needed, replace=False)\n",
    "        chosen_indices = np.concatenate((chosen_indices, chosen_negative_indices))\n",
    "        \n",
    "        # 打乱选择的索引，使正负样本混合\n",
    "        sampled_indices.append(chosen_indices)\n",
    "    \n",
    "    batch_index = np.repeat(np.arange(num_rows)[:, None], n_sample, axis=1)\n",
    "    return batch_index, np.array(sampled_indices)\n",
    "\n",
    "c = np.random.rand(16, 64, 128)\n",
    "bi, ri = negative_sampling(labels, 32)\n",
    "ri\n",
    "np.nonzero(labels)"
   ]
  },
  {
   "cell_type": "code",
   "execution_count": 44,
   "metadata": {},
   "outputs": [
    {
     "name": "stdout",
     "output_type": "stream",
     "text": [
      "Tensor(\"while/Placeholder:0\", shape=(), dtype=int32)\n",
      "Tensor(\"while/Placeholder:0\", shape=(), dtype=int32)\n",
      "Tensor(\"while/Placeholder:0\", shape=(), dtype=int32)\n",
      "Tensor(\"while/Placeholder:0\", shape=(), dtype=int32)\n",
      "Tensor(\"while/Placeholder:0\", shape=(), dtype=int32)\n"
     ]
    },
    {
     "data": {
      "text/plain": [
       "<tf.Tensor: shape=(5,), dtype=int32, numpy=array([ 1,  2,  4,  7, 11], dtype=int32)>"
      ]
     },
     "execution_count": 44,
     "metadata": {},
     "output_type": "execute_result"
    }
   ],
   "source": [
    "v = tf.Variable(1)\n",
    "@tf.function\n",
    "def f(x):\n",
    "    ta = tf.TensorArray(tf.int32, size=0, dynamic_size=True)\n",
    "    for i in tf.range(x):\n",
    "        tf.print(\"{}\".format(i))\n",
    "        v.assign_add(i)\n",
    "        ta = ta.write(i, v)\n",
    "    return ta.stack()\n",
    "\n",
    "f(5)"
   ]
  },
  {
   "cell_type": "code",
   "execution_count": null,
   "metadata": {},
   "outputs": [],
   "source": []
  }
 ],
 "metadata": {
  "kernelspec": {
   "display_name": "base",
   "language": "python",
   "name": "python3"
  },
  "language_info": {
   "codemirror_mode": {
    "name": "ipython",
    "version": 3
   },
   "file_extension": ".py",
   "mimetype": "text/x-python",
   "name": "python",
   "nbconvert_exporter": "python",
   "pygments_lexer": "ipython3",
   "version": "3.8.10"
  }
 },
 "nbformat": 4,
 "nbformat_minor": 2
}
