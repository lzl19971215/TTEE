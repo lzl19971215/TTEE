{
 "cells": [
  {
   "cell_type": "code",
   "execution_count": 3,
   "metadata": {},
   "outputs": [],
   "source": [
    "import os\n",
    "os.environ['CUDA_VISIBLE_DEVICES'] = '-1'\n",
    "import tensorflow as tf\n",
    "import numpy as np"
   ]
  },
  {
   "cell_type": "code",
   "execution_count": 30,
   "metadata": {},
   "outputs": [
    {
     "data": {
      "text/plain": [
       "array([ 19,  37,  50,  59,  81,  95, 140, 141, 159, 180, 208, 214, 254,\n",
       "       271, 326, 346, 286, 283,  70, 182, 345,  88, 337, 103, 131,  76,\n",
       "       102,  49, 249, 132,  64, 184])"
      ]
     },
     "execution_count": 30,
     "metadata": {},
     "output_type": "execute_result"
    }
   ],
   "source": [
    "# a = tf.TensorArray(dtype=tf.float32, size=0, dynamic_size=True, infer_shape=False)\n",
    "# a.write(0, [1., 0.])\n",
    "# a.write(1, [[0., 1.], [1., 2.]])\n",
    "# b = a.concat()\n",
    "# tf.reduce_mean(b, 0)\n",
    "\n",
    "\n",
    "labels = np.zeros((16, 363))\n",
    "for i in range(16):\n",
    "    labels[i, np.random.randint(0, 363)] = 1\n",
    "np.nonzero(labels)\n",
    "\n",
    "# def negative_sampling(labels, n_sample=32):\n",
    "#     num_rows, _ = labels.shape\n",
    "#     sampled_indices = []\n",
    "    \n",
    "#     for i in range(num_rows):\n",
    "#         positive_indices = np.where(labels[i] == 1)[0]\n",
    "#         negative_indices = np.where(labels[i] == 0)[0]\n",
    "#         assert len(positive_indices) < n_sample\n",
    "\n",
    "#         chosen_indices = positive_indices\n",
    "#         num_negatives_needed = n_sample - len(chosen_indices)\n",
    "#         chosen_negative_indices = np.random.choice(negative_indices, size=num_negatives_needed, replace=False)\n",
    "#         chosen_indices = np.concatenate((chosen_indices, chosen_negative_indices))\n",
    "        \n",
    "#         # 打乱选择的索引，使正负样本混合\n",
    "#         sampled_indices.append(chosen_indices)\n",
    "    \n",
    "#     batch_index = np.repeat(np.arange(num_rows)[:, None], n_sample, axis=1)\n",
    "#     return batch_index, np.array(sampled_indices)\n",
    "\n",
    "def negative_sampling(labels, n_sample=36):\n",
    "    num_rows, n_cols = labels.shape\n",
    "    positive_indices = np.unique(np.nonzero(labels)[1])\n",
    "    negative_indices = np.array([i for i in range(n_cols) if i not in positive_indices])\n",
    "    num_negatives_needed = n_sample - len(positive_indices)\n",
    "    chosen_negative_indices = np.random.choice(negative_indices, size=num_negatives_needed, replace=False)\n",
    "    chosen_indices = np.concatenate((positive_indices, chosen_negative_indices))   \n",
    "    batch_index = np.repeat(np.arange(num_rows)[:, None], n_sample, axis=1)\n",
    "    return batch_index, chosen_indices\n",
    "\n",
    "c = np.random.rand(16, 64, 128)\n",
    "bi, ri = negative_sampling(labels, 32)\n",
    "ri"
   ]
  },
  {
   "cell_type": "code",
   "execution_count": 21,
   "metadata": {},
   "outputs": [
    {
     "ename": "SyntaxError",
     "evalue": "unexpected EOF while parsing (128688300.py, line 5)",
     "output_type": "error",
     "traceback": [
      "\u001b[0;36m  File \u001b[0;32m\"/tmp/ipykernel_760219/128688300.py\"\u001b[0;36m, line \u001b[0;32m5\u001b[0m\n\u001b[0;31m    tf.where(labels != 0)[:, 1\u001b[0m\n\u001b[0m                              ^\u001b[0m\n\u001b[0;31mSyntaxError\u001b[0m\u001b[0;31m:\u001b[0m unexpected EOF while parsing\n"
     ]
    }
   ],
   "source": [
    "\n",
    "labels = tf.Variable(tf.zeros((16, 363), dtype=tf.int32))\n",
    "for i in range(16):\n",
    "    labels[i, np.random.randint(12)].assign(1)\n",
    "indices = tf.where(labels != 0)[:, 1]\n",
    "labels[:, tf.where(labels != 0)[:, 1]]\n"
   ]
  },
  {
   "cell_type": "code",
   "execution_count": 44,
   "metadata": {},
   "outputs": [
    {
     "name": "stdout",
     "output_type": "stream",
     "text": [
      "Tensor(\"while/Placeholder:0\", shape=(), dtype=int32)\n",
      "Tensor(\"while/Placeholder:0\", shape=(), dtype=int32)\n",
      "Tensor(\"while/Placeholder:0\", shape=(), dtype=int32)\n",
      "Tensor(\"while/Placeholder:0\", shape=(), dtype=int32)\n",
      "Tensor(\"while/Placeholder:0\", shape=(), dtype=int32)\n"
     ]
    },
    {
     "data": {
      "text/plain": [
       "<tf.Tensor: shape=(5,), dtype=int32, numpy=array([ 1,  2,  4,  7, 11], dtype=int32)>"
      ]
     },
     "execution_count": 44,
     "metadata": {},
     "output_type": "execute_result"
    }
   ],
   "source": [
    "v = tf.Variable(1)\n",
    "@tf.function\n",
    "def f(x):\n",
    "    ta = tf.TensorArray(tf.int32, size=0, dynamic_size=True)\n",
    "    for i in tf.range(x):\n",
    "        tf.print(\"{}\".format(i))\n",
    "        v.assign_add(i)\n",
    "        ta = ta.write(i, v)\n",
    "    return ta.stack()\n",
    "\n",
    "f(5)"
   ]
  },
  {
   "cell_type": "code",
   "execution_count": null,
   "metadata": {},
   "outputs": [],
   "source": []
  }
 ],
 "metadata": {
  "kernelspec": {
   "display_name": "base",
   "language": "python",
   "name": "python3"
  },
  "language_info": {
   "codemirror_mode": {
    "name": "ipython",
    "version": 3
   },
   "file_extension": ".py",
   "mimetype": "text/x-python",
   "name": "python",
   "nbconvert_exporter": "python",
   "pygments_lexer": "ipython3",
   "version": "3.8.10"
  }
 },
 "nbformat": 4,
 "nbformat_minor": 2
}
